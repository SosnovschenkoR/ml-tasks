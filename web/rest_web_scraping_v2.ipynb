{
 "cells": [
  {
   "cell_type": "markdown",
   "metadata": {},
   "source": [
    "### [Build a Web Scraper with Python in 8 Minutes](https://towardsdatascience.com/scrape-websites-using-python-in-5-minutes-931cd9f44443)"
   ]
  },
  {
   "cell_type": "code",
   "execution_count": 138,
   "metadata": {},
   "outputs": [],
   "source": [
    "import requests\n",
    "from bs4 import BeautifulSoup\n",
    "import matplotlib\n",
    "matplotlib.style.use('ggplot')\n",
    "import matplotlib.pyplot as plt"
   ]
  },
  {
   "cell_type": "code",
   "execution_count": 3,
   "metadata": {},
   "outputs": [
    {
     "data": {
      "text/plain": [
       "'Mozilla/5.0 (Macintosh; U; Intel Mac OS X 10_6_6; fr-fr) AppleWebKit/533.20.25 (KHTML, like Gecko) Version/5.0.4 Safari/533.20.27'"
      ]
     },
     "execution_count": 3,
     "metadata": {},
     "output_type": "execute_result"
    }
   ],
   "source": [
    "from fake_useragent import UserAgent\n",
    "ua = UserAgent()\n",
    "ua.safari"
   ]
  },
  {
   "cell_type": "code",
   "execution_count": 4,
   "metadata": {
    "code_folding": []
   },
   "outputs": [],
   "source": [
    "#Used headers/agent because the request was timed out and asking for an agent. \n",
    "#Using following code we can fake the agent.\n",
    "headers = {'User-Agent': 'Mozilla/5.0 (Macintosh; Intel Mac OS X 10_9_3) AppleWebKit/537.75.14 (KHTML, like Gecko) Version/7.0.3 Safari/7046A194A'}\n",
    "response = requests.get(\"https://www.classcentral.com/subject/data-science\", headers=headers, verify=True)"
   ]
  },
  {
   "cell_type": "code",
   "execution_count": 5,
   "metadata": {},
   "outputs": [],
   "source": [
    "content = response.content\n",
    "soup = BeautifulSoup(content, \"html.parser\")"
   ]
  },
  {
   "cell_type": "code",
   "execution_count": 12,
   "metadata": {},
   "outputs": [],
   "source": [
    "#top_rest = soup.find_all(\"tbody\",attrs={\"id\": \"course-listing-tbody\"})\n",
    "#list_tr = top_rest[0].find_all(\"div\",attrs={\"class\": \"bke1zw-1\"})\n",
    "top_rest = soup.find_all(\"span\",attrs={\"class\": \"text-1 weight-semi line-tight\"})"
   ]
  },
  {
   "cell_type": "code",
   "execution_count": 13,
   "metadata": {},
   "outputs": [],
   "source": [
    "course = []\n",
    "for tr in top_rest:\n",
    "    s = tr.get_text().strip()\n",
    "    course.append(s)"
   ]
  },
  {
   "cell_type": "code",
   "execution_count": 14,
   "metadata": {
    "scrolled": true
   },
   "outputs": [
    {
     "data": {
      "text/plain": [
       "50"
      ]
     },
     "execution_count": 14,
     "metadata": {},
     "output_type": "execute_result"
    }
   ],
   "source": [
    "#print(soup.prettify())\n",
    "len(course)"
   ]
  },
  {
   "cell_type": "code",
   "execution_count": 15,
   "metadata": {},
   "outputs": [],
   "source": [
    "#top_rest = soup.find_all(\"tbody\",attrs={\"id\": \"course-listing-tbody\"})\n",
    "#list_tr = top_rest[0].find_all(\"div\",attrs={\"class\": \"bke1zw-1\"})\n",
    "#course_provider = soup.find_all(\"div\",attrs={\"class\": \"truncate\"})\n",
    "# Provider/Offered By:\n",
    "provider = []\n",
    "for i in soup.find_all('a', href=True, attrs={'class':'color-charcoal italic'}):\n",
    "    s = i.get_text().strip()\n",
    "    provider.append(s)"
   ]
  },
  {
   "cell_type": "code",
   "execution_count": 16,
   "metadata": {},
   "outputs": [
    {
     "data": {
      "text/plain": [
       "50"
      ]
     },
     "execution_count": 16,
     "metadata": {},
     "output_type": "execute_result"
    }
   ],
   "source": [
    "len(provider)"
   ]
  },
  {
   "cell_type": "code",
   "execution_count": 21,
   "metadata": {},
   "outputs": [],
   "source": [
    "rating = []\n",
    "for i in soup.find_all('div', attrs={'class':'col border-box text-center nowrap row large-up-text-right padding-horz-small push'}):\n",
    "    s = i.find('span', attrs={'class':'xlarge-up-hidden color-charcoal text-center'})\n",
    "    if s is not None:\n",
    "        rating.append(s.text.strip())\n",
    "    else:\n",
    "        rating.append('-1')"
   ]
  },
  {
   "cell_type": "code",
   "execution_count": 22,
   "metadata": {},
   "outputs": [
    {
     "data": {
      "text/plain": [
       "'3.3'"
      ]
     },
     "execution_count": 22,
     "metadata": {},
     "output_type": "execute_result"
    }
   ],
   "source": [
    "rating[1]"
   ]
  },
  {
   "cell_type": "code",
   "execution_count": 32,
   "metadata": {},
   "outputs": [
    {
     "data": {
      "text/plain": [
       "20"
      ]
     },
     "execution_count": 32,
     "metadata": {},
     "output_type": "execute_result"
    }
   ],
   "source": [
    "num_reviews = []\n",
    "for i in soup.find_all(\"span\",{'class' : 'large-down-hidden block line-tight text-4 color-gray'}):\n",
    "    num_reviews.append(int(i.text.strip().replace(' Reviews', '')))\n",
    "num_reviews[48]"
   ]
  },
  {
   "cell_type": "code",
   "execution_count": 48,
   "metadata": {},
   "outputs": [],
   "source": [
    "duration = []\n",
    "for i in soup.findAll('div', attrs={'class':'small-down-text-2 text-3 row vert-align-middle'}):\n",
    "    s = i.find('span', attrs={'class':'hidden medium-up-inline-block small-down-text-2 text-3 large-up-margin-left-xxsmall icon-clock-charcoal icon-left-small'})\n",
    "    s = s.text.strip()\n",
    "    s = \" \".join(s.split())\n",
    "    s = s.replace('\\n', '').replace(' ,', ',').strip()\n",
    "    if s is not None:\n",
    "        duration.append(s)\n",
    "    else:\n",
    "        duration.append('-1')"
   ]
  },
  {
   "cell_type": "code",
   "execution_count": 61,
   "metadata": {},
   "outputs": [],
   "source": [
    "import pandas as pd\n",
    "df = pd.DataFrame({'course':course, 'ratings': rating, 'reviews':num_reviews,\n",
    "                  'provider':provider, 'duration': duration})"
   ]
  },
  {
   "cell_type": "code",
   "execution_count": 62,
   "metadata": {},
   "outputs": [
    {
     "data": {
      "text/html": [
       "<div>\n",
       "<style scoped>\n",
       "    .dataframe tbody tr th:only-of-type {\n",
       "        vertical-align: middle;\n",
       "    }\n",
       "\n",
       "    .dataframe tbody tr th {\n",
       "        vertical-align: top;\n",
       "    }\n",
       "\n",
       "    .dataframe thead th {\n",
       "        text-align: right;\n",
       "    }\n",
       "</style>\n",
       "<table border=\"1\" class=\"dataframe\">\n",
       "  <thead>\n",
       "    <tr style=\"text-align: right;\">\n",
       "      <th></th>\n",
       "      <th>course</th>\n",
       "      <th>ratings</th>\n",
       "      <th>reviews</th>\n",
       "      <th>provider</th>\n",
       "      <th>duration</th>\n",
       "    </tr>\n",
       "  </thead>\n",
       "  <tbody>\n",
       "    <tr>\n",
       "      <th>0</th>\n",
       "      <td>R Programming</td>\n",
       "      <td>2.8</td>\n",
       "      <td>245</td>\n",
       "      <td>Coursera</td>\n",
       "      <td>57 hours worth of material, 4 weeks long</td>\n",
       "    </tr>\n",
       "    <tr>\n",
       "      <th>1</th>\n",
       "      <td>The Data Scientist’s Toolbox</td>\n",
       "      <td>3.3</td>\n",
       "      <td>165</td>\n",
       "      <td>Coursera</td>\n",
       "      <td>18 hours worth of material, 4 weeks long</td>\n",
       "    </tr>\n",
       "    <tr>\n",
       "      <th>2</th>\n",
       "      <td>Computational Social Science</td>\n",
       "      <td>4.8</td>\n",
       "      <td>76</td>\n",
       "      <td>Coursera</td>\n",
       "      <td>3 hours a week, 26 weeks long</td>\n",
       "    </tr>\n",
       "    <tr>\n",
       "      <th>3</th>\n",
       "      <td>Getting and Cleaning Data</td>\n",
       "      <td>3.5</td>\n",
       "      <td>57</td>\n",
       "      <td>Coursera</td>\n",
       "      <td>19 hours worth of material, 4 weeks long</td>\n",
       "    </tr>\n",
       "    <tr>\n",
       "      <th>4</th>\n",
       "      <td>The Analytics Edge</td>\n",
       "      <td>4.7</td>\n",
       "      <td>80</td>\n",
       "      <td>edX</td>\n",
       "      <td>10-15 hours a week, 13 weeks long</td>\n",
       "    </tr>\n",
       "    <tr>\n",
       "      <th>5</th>\n",
       "      <td>Exploratory Data Analysis</td>\n",
       "      <td>3.9</td>\n",
       "      <td>39</td>\n",
       "      <td>Coursera</td>\n",
       "      <td>1 week long</td>\n",
       "    </tr>\n",
       "    <tr>\n",
       "      <th>6</th>\n",
       "      <td>Become a Data Analyst</td>\n",
       "      <td>4.5</td>\n",
       "      <td>64</td>\n",
       "      <td>Udacity</td>\n",
       "      <td>10 hours a week, 17 weeks long</td>\n",
       "    </tr>\n",
       "    <tr>\n",
       "      <th>7</th>\n",
       "      <td>Introduction to Big Data</td>\n",
       "      <td>2.7</td>\n",
       "      <td>35</td>\n",
       "      <td>Coursera</td>\n",
       "      <td>17 hours worth of material, 3 weeks long</td>\n",
       "    </tr>\n",
       "    <tr>\n",
       "      <th>8</th>\n",
       "      <td>Introduction to Data Science in Python</td>\n",
       "      <td>2.4</td>\n",
       "      <td>46</td>\n",
       "      <td>Coursera</td>\n",
       "      <td>29 hours worth of material, 4 weeks long</td>\n",
       "    </tr>\n",
       "    <tr>\n",
       "      <th>9</th>\n",
       "      <td>Python for Data Science</td>\n",
       "      <td>4.4</td>\n",
       "      <td>47</td>\n",
       "      <td>edX</td>\n",
       "      <td>8-10 hours a week, 10 weeks long</td>\n",
       "    </tr>\n",
       "  </tbody>\n",
       "</table>\n",
       "</div>"
      ],
      "text/plain": [
       "                                   course ratings  reviews  provider  \\\n",
       "0                           R Programming     2.8      245  Coursera   \n",
       "1            The Data Scientist’s Toolbox     3.3      165  Coursera   \n",
       "2            Computational Social Science     4.8       76  Coursera   \n",
       "3               Getting and Cleaning Data     3.5       57  Coursera   \n",
       "4                      The Analytics Edge     4.7       80       edX   \n",
       "5               Exploratory Data Analysis     3.9       39  Coursera   \n",
       "6                   Become a Data Analyst     4.5       64   Udacity   \n",
       "7                Introduction to Big Data     2.7       35  Coursera   \n",
       "8  Introduction to Data Science in Python     2.4       46  Coursera   \n",
       "9                 Python for Data Science     4.4       47       edX   \n",
       "\n",
       "                                   duration  \n",
       "0  57 hours worth of material, 4 weeks long  \n",
       "1  18 hours worth of material, 4 weeks long  \n",
       "2             3 hours a week, 26 weeks long  \n",
       "3  19 hours worth of material, 4 weeks long  \n",
       "4         10-15 hours a week, 13 weeks long  \n",
       "5                               1 week long  \n",
       "6            10 hours a week, 17 weeks long  \n",
       "7  17 hours worth of material, 3 weeks long  \n",
       "8  29 hours worth of material, 4 weeks long  \n",
       "9          8-10 hours a week, 10 weeks long  "
      ]
     },
     "execution_count": 62,
     "metadata": {},
     "output_type": "execute_result"
    }
   ],
   "source": [
    "df.head(10)"
   ]
  },
  {
   "cell_type": "code",
   "execution_count": 104,
   "metadata": {},
   "outputs": [
    {
     "data": {
      "text/html": [
       "<div>\n",
       "<style scoped>\n",
       "    .dataframe tbody tr th:only-of-type {\n",
       "        vertical-align: middle;\n",
       "    }\n",
       "\n",
       "    .dataframe tbody tr th {\n",
       "        vertical-align: top;\n",
       "    }\n",
       "\n",
       "    .dataframe thead th {\n",
       "        text-align: right;\n",
       "    }\n",
       "</style>\n",
       "<table border=\"1\" class=\"dataframe\">\n",
       "  <thead>\n",
       "    <tr style=\"text-align: right;\">\n",
       "      <th></th>\n",
       "      <th>mean</th>\n",
       "      <th>sum</th>\n",
       "    </tr>\n",
       "    <tr>\n",
       "      <th>provider</th>\n",
       "      <th></th>\n",
       "      <th></th>\n",
       "    </tr>\n",
       "  </thead>\n",
       "  <tbody>\n",
       "    <tr>\n",
       "      <th>Coursera</th>\n",
       "      <td>3.300000</td>\n",
       "      <td>1005</td>\n",
       "    </tr>\n",
       "    <tr>\n",
       "      <th>FutureLearn</th>\n",
       "      <td>4.700000</td>\n",
       "      <td>34</td>\n",
       "    </tr>\n",
       "    <tr>\n",
       "      <th>Independent</th>\n",
       "      <td>5.000000</td>\n",
       "      <td>41</td>\n",
       "    </tr>\n",
       "    <tr>\n",
       "      <th>Udacity</th>\n",
       "      <td>4.500000</td>\n",
       "      <td>64</td>\n",
       "    </tr>\n",
       "    <tr>\n",
       "      <th>edX</th>\n",
       "      <td>4.015789</td>\n",
       "      <td>390</td>\n",
       "    </tr>\n",
       "  </tbody>\n",
       "</table>\n",
       "</div>"
      ],
      "text/plain": [
       "                 mean   sum\n",
       "provider                   \n",
       "Coursera     3.300000  1005\n",
       "FutureLearn  4.700000    34\n",
       "Independent  5.000000    41\n",
       "Udacity      4.500000    64\n",
       "edX          4.015789   390"
      ]
     },
     "execution_count": 104,
     "metadata": {},
     "output_type": "execute_result"
    }
   ],
   "source": [
    "df['ratings'] = df['ratings'].astype('float64')\n",
    "#df.dtypes\n",
    "#df.groupby('provider')['reviews','ratings'].agg(['sum'])\n",
    "df1 = df.groupby('provider')['ratings'].agg(['mean'])\n",
    "df2 = df.groupby('provider')['reviews'].agg(['sum'])\n",
    "pd.concat([df1, df2], sort=True, axis=1)"
   ]
  },
  {
   "cell_type": "code",
   "execution_count": 146,
   "metadata": {},
   "outputs": [
    {
     "data": {
      "text/plain": [
       "Text(0, 0.5, 'Mean rating')"
      ]
     },
     "execution_count": 146,
     "metadata": {},
     "output_type": "execute_result"
    },
    {
     "data": {
      "image/png": "[encoded data removed]",
      "text/plain": [
       "<Figure size 432x288 with 2 Axes>"
      ]
     },
     "metadata": {},
     "output_type": "display_data"
    }
   ],
   "source": [
    "df_agg = df.groupby('provider').agg({'reviews':['sum'], 'ratings': ['mean']})\n",
    "df_agg.columns = df_agg.columns.map('_'.join)\n",
    "ax = df_agg.plot(kind='bar', secondary_y='ratings_mean', rot=45, legend=False)\n",
    "ax.set_xlabel('Course provider')\n",
    "ax.set_ylabel('Reviews count')\n",
    "plt.ylabel('Mean rating', rotation=90)"
   ]
  },
  {
   "cell_type": "code",
   "execution_count": 129,
   "metadata": {},
   "outputs": [
    {
     "data": {
      "image/png": "[encoded data removed]",
      "text/plain": [
       "<Figure size 432x288 with 1 Axes>"
      ]
     },
     "metadata": {
      "needs_background": "light"
     },
     "output_type": "display_data"
    }
   ],
   "source": [
    "ax = df.groupby('provider')['reviews'].agg(['sum']).plot.bar()\n",
    "#ax = df.plot(kind= 'bar' , secondary_y= 'amount' , rot= 0)\n",
    "ax.set_xlabel('Course provider')\n",
    "plt.xticks(rotation=45, ha='right')\n",
    "ax.legend(['reviews count'])\n",
    "plt.show()"
   ]
  },
  {
   "cell_type": "code",
   "execution_count": 162,
   "metadata": {},
   "outputs": [
    {
     "data": {
      "image/png": "[encoded data removed]",
      "text/plain": [
       "<Figure size 432x288 with 1 Axes>"
      ]
     },
     "metadata": {},
     "output_type": "display_data"
    }
   ],
   "source": [
    "ax = df[['course','reviews']].set_index('course').sort_values('reviews', ascending=False).head(10).plot(kind='bar')"
   ]
  },
  {
   "cell_type": "code",
   "execution_count": null,
   "metadata": {},
   "outputs": [],
   "source": []
  }
 ],
 "metadata": {
  "hide_input": false,
  "kernelspec": {
   "display_name": "Python 3",
   "language": "python",
   "name": "python3"
  },
  "language_info": {
   "codemirror_mode": {
    "name": "ipython",
    "version": 3
   },
   "file_extension": ".py",
   "mimetype": "text/x-python",
   "name": "python",
   "nbconvert_exporter": "python",
   "pygments_lexer": "ipython3",
   "version": "3.6.8"
  },
  "varInspector": {
   "cols": {
    "lenName": 16,
    "lenType": 16,
    "lenVar": 40
   },
   "kernels_config": {
    "python": {
     "delete_cmd_postfix": "",
     "delete_cmd_prefix": "del ",
     "library": "var_list.py",
     "varRefreshCmd": "print(var_dic_list())"
    },
    "r": {
     "delete_cmd_postfix": ") ",
     "delete_cmd_prefix": "rm(",
     "library": "var_list.r",
     "varRefreshCmd": "cat(var_dic_list()) "
    }
   },
   "types_to_exclude": [
    "module",
    "function",
    "builtin_function_or_method",
    "instance",
    "_Feature"
   ],
   "window_display": false
  }
 },
 "nbformat": 4,
 "nbformat_minor": 2
}
